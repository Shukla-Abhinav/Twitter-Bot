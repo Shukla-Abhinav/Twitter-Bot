{
 "cells": [
  {
   "cell_type": "code",
   "execution_count": 13,
   "metadata": {},
   "outputs": [
    {
     "name": "stdout",
     "output_type": "stream",
     "text": [
      "Tweet Liked\n"
     ]
    }
   ],
   "source": [
    "# Importing the libraries\n",
    "import tweepy  \n",
    "import time \n",
    "\n",
    "# API References\n",
    "auth = tweepy.OAuthHandler('Yh5eaDXWBVofiRPHjadPcN4Zk','0hfR4IMMjIbiCGT2FUEIDdADk7bk6mwM9XtaBGNnqMkLW2aXJL')\n",
    "auth.set_access_token('827354582141513729-Fl36uMJNaUpEYFWw3k9PALJHGuzMszj','1g1LVW0l5hntyoFHqlCa4yZXhS5IUNA7C1mgyibKw08NV')\n",
    "\n",
    "api = tweepy.API(auth, wait_on_rate_limit=True, wait_on_rate_limit_notify=True)\n",
    "\n",
    "user = api.me()\n",
    "\n",
    "# Initializing Keyword to find in twits\n",
    "search = 'Python'\n",
    "numberOfTweets = 1     # How many twits we have to like\n",
    "\n",
    "for tweet in tweepy.Cursor(api.search,search).items(nrTweets):\n",
    "    try:                           # trying for any error\n",
    "        print('Tweet Liked')     # if no error opccured than liking the twit\n",
    "        tweet.favorite()\n",
    "        #time.sleep(10)\n",
    "        \n",
    "    except tweepy.TweepError as e:     # if any error than printing here\n",
    "        print(e.reason)\n",
    "        \n",
    "    except StopIteration:           # stoping the iteration \n",
    "        break"
   ]
  },
  {
   "cell_type": "code",
   "execution_count": null,
   "metadata": {},
   "outputs": [],
   "source": []
  },
  {
   "cell_type": "code",
   "execution_count": null,
   "metadata": {},
   "outputs": [],
   "source": []
  }
 ],
 "metadata": {
  "kernelspec": {
   "display_name": "Python 3",
   "language": "python",
   "name": "python3"
  },
  "language_info": {
   "codemirror_mode": {
    "name": "ipython",
    "version": 3
   },
   "file_extension": ".py",
   "mimetype": "text/x-python",
   "name": "python",
   "nbconvert_exporter": "python",
   "pygments_lexer": "ipython3",
   "version": "3.7.4"
  }
 },
 "nbformat": 4,
 "nbformat_minor": 2
}
